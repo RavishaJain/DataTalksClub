{
 "cells": [
  {
   "cell_type": "code",
   "execution_count": 1,
   "id": "1f40fd09",
   "metadata": {},
   "outputs": [],
   "source": [
    "import numpy as np\n",
    "import pandas as pd\n",
    "from sklearn.model_selection import train_test_split\n",
    "from sklearn.metrics import mutual_info_score\n",
    "from sklearn.feature_extraction import DictVectorizer\n",
    "from sklearn.linear_model import LogisticRegression"
   ]
  },
  {
   "cell_type": "code",
   "execution_count": 2,
   "id": "659a3a8b",
   "metadata": {},
   "outputs": [],
   "source": [
    "df = pd.read_csv('bank-full.csv', sep=';')"
   ]
  },
  {
   "cell_type": "code",
   "execution_count": 3,
   "id": "d6427c39",
   "metadata": {},
   "outputs": [
    {
     "data": {
      "text/html": [
       "<div>\n",
       "<style scoped>\n",
       "    .dataframe tbody tr th:only-of-type {\n",
       "        vertical-align: middle;\n",
       "    }\n",
       "\n",
       "    .dataframe tbody tr th {\n",
       "        vertical-align: top;\n",
       "    }\n",
       "\n",
       "    .dataframe thead th {\n",
       "        text-align: right;\n",
       "    }\n",
       "</style>\n",
       "<table border=\"1\" class=\"dataframe\">\n",
       "  <thead>\n",
       "    <tr style=\"text-align: right;\">\n",
       "      <th></th>\n",
       "      <th>age</th>\n",
       "      <th>job</th>\n",
       "      <th>marital</th>\n",
       "      <th>education</th>\n",
       "      <th>default</th>\n",
       "      <th>balance</th>\n",
       "      <th>housing</th>\n",
       "      <th>loan</th>\n",
       "      <th>contact</th>\n",
       "      <th>day</th>\n",
       "      <th>month</th>\n",
       "      <th>duration</th>\n",
       "      <th>campaign</th>\n",
       "      <th>pdays</th>\n",
       "      <th>previous</th>\n",
       "      <th>poutcome</th>\n",
       "      <th>y</th>\n",
       "    </tr>\n",
       "  </thead>\n",
       "  <tbody>\n",
       "    <tr>\n",
       "      <th>0</th>\n",
       "      <td>58</td>\n",
       "      <td>management</td>\n",
       "      <td>married</td>\n",
       "      <td>tertiary</td>\n",
       "      <td>no</td>\n",
       "      <td>2143</td>\n",
       "      <td>yes</td>\n",
       "      <td>no</td>\n",
       "      <td>unknown</td>\n",
       "      <td>5</td>\n",
       "      <td>may</td>\n",
       "      <td>261</td>\n",
       "      <td>1</td>\n",
       "      <td>-1</td>\n",
       "      <td>0</td>\n",
       "      <td>unknown</td>\n",
       "      <td>no</td>\n",
       "    </tr>\n",
       "    <tr>\n",
       "      <th>1</th>\n",
       "      <td>44</td>\n",
       "      <td>technician</td>\n",
       "      <td>single</td>\n",
       "      <td>secondary</td>\n",
       "      <td>no</td>\n",
       "      <td>29</td>\n",
       "      <td>yes</td>\n",
       "      <td>no</td>\n",
       "      <td>unknown</td>\n",
       "      <td>5</td>\n",
       "      <td>may</td>\n",
       "      <td>151</td>\n",
       "      <td>1</td>\n",
       "      <td>-1</td>\n",
       "      <td>0</td>\n",
       "      <td>unknown</td>\n",
       "      <td>no</td>\n",
       "    </tr>\n",
       "    <tr>\n",
       "      <th>2</th>\n",
       "      <td>33</td>\n",
       "      <td>entrepreneur</td>\n",
       "      <td>married</td>\n",
       "      <td>secondary</td>\n",
       "      <td>no</td>\n",
       "      <td>2</td>\n",
       "      <td>yes</td>\n",
       "      <td>yes</td>\n",
       "      <td>unknown</td>\n",
       "      <td>5</td>\n",
       "      <td>may</td>\n",
       "      <td>76</td>\n",
       "      <td>1</td>\n",
       "      <td>-1</td>\n",
       "      <td>0</td>\n",
       "      <td>unknown</td>\n",
       "      <td>no</td>\n",
       "    </tr>\n",
       "    <tr>\n",
       "      <th>3</th>\n",
       "      <td>47</td>\n",
       "      <td>blue-collar</td>\n",
       "      <td>married</td>\n",
       "      <td>unknown</td>\n",
       "      <td>no</td>\n",
       "      <td>1506</td>\n",
       "      <td>yes</td>\n",
       "      <td>no</td>\n",
       "      <td>unknown</td>\n",
       "      <td>5</td>\n",
       "      <td>may</td>\n",
       "      <td>92</td>\n",
       "      <td>1</td>\n",
       "      <td>-1</td>\n",
       "      <td>0</td>\n",
       "      <td>unknown</td>\n",
       "      <td>no</td>\n",
       "    </tr>\n",
       "    <tr>\n",
       "      <th>4</th>\n",
       "      <td>33</td>\n",
       "      <td>unknown</td>\n",
       "      <td>single</td>\n",
       "      <td>unknown</td>\n",
       "      <td>no</td>\n",
       "      <td>1</td>\n",
       "      <td>no</td>\n",
       "      <td>no</td>\n",
       "      <td>unknown</td>\n",
       "      <td>5</td>\n",
       "      <td>may</td>\n",
       "      <td>198</td>\n",
       "      <td>1</td>\n",
       "      <td>-1</td>\n",
       "      <td>0</td>\n",
       "      <td>unknown</td>\n",
       "      <td>no</td>\n",
       "    </tr>\n",
       "  </tbody>\n",
       "</table>\n",
       "</div>"
      ],
      "text/plain": [
       "   age           job  marital  education default  balance housing loan  \\\n",
       "0   58    management  married   tertiary      no     2143     yes   no   \n",
       "1   44    technician   single  secondary      no       29     yes   no   \n",
       "2   33  entrepreneur  married  secondary      no        2     yes  yes   \n",
       "3   47   blue-collar  married    unknown      no     1506     yes   no   \n",
       "4   33       unknown   single    unknown      no        1      no   no   \n",
       "\n",
       "   contact  day month  duration  campaign  pdays  previous poutcome   y  \n",
       "0  unknown    5   may       261         1     -1         0  unknown  no  \n",
       "1  unknown    5   may       151         1     -1         0  unknown  no  \n",
       "2  unknown    5   may        76         1     -1         0  unknown  no  \n",
       "3  unknown    5   may        92         1     -1         0  unknown  no  \n",
       "4  unknown    5   may       198         1     -1         0  unknown  no  "
      ]
     },
     "execution_count": 3,
     "metadata": {},
     "output_type": "execute_result"
    }
   ],
   "source": [
    "df.head()"
   ]
  },
  {
   "cell_type": "code",
   "execution_count": 4,
   "id": "cb83b08c",
   "metadata": {},
   "outputs": [
    {
     "data": {
      "text/plain": [
       "age          0\n",
       "job          0\n",
       "marital      0\n",
       "education    0\n",
       "default      0\n",
       "balance      0\n",
       "housing      0\n",
       "loan         0\n",
       "contact      0\n",
       "day          0\n",
       "month        0\n",
       "duration     0\n",
       "campaign     0\n",
       "pdays        0\n",
       "previous     0\n",
       "poutcome     0\n",
       "y            0\n",
       "dtype: int64"
      ]
     },
     "execution_count": 4,
     "metadata": {},
     "output_type": "execute_result"
    }
   ],
   "source": [
    "df.isnull().sum()"
   ]
  },
  {
   "cell_type": "code",
   "execution_count": 5,
   "id": "f1a19b0f",
   "metadata": {},
   "outputs": [
    {
     "data": {
      "text/html": [
       "<div>\n",
       "<style scoped>\n",
       "    .dataframe tbody tr th:only-of-type {\n",
       "        vertical-align: middle;\n",
       "    }\n",
       "\n",
       "    .dataframe tbody tr th {\n",
       "        vertical-align: top;\n",
       "    }\n",
       "\n",
       "    .dataframe thead th {\n",
       "        text-align: right;\n",
       "    }\n",
       "</style>\n",
       "<table border=\"1\" class=\"dataframe\">\n",
       "  <thead>\n",
       "    <tr style=\"text-align: right;\">\n",
       "      <th></th>\n",
       "      <th>age</th>\n",
       "      <th>balance</th>\n",
       "      <th>day</th>\n",
       "      <th>duration</th>\n",
       "      <th>campaign</th>\n",
       "      <th>pdays</th>\n",
       "      <th>previous</th>\n",
       "    </tr>\n",
       "  </thead>\n",
       "  <tbody>\n",
       "    <tr>\n",
       "      <th>count</th>\n",
       "      <td>45211.000000</td>\n",
       "      <td>45211.000000</td>\n",
       "      <td>45211.000000</td>\n",
       "      <td>45211.000000</td>\n",
       "      <td>45211.000000</td>\n",
       "      <td>45211.000000</td>\n",
       "      <td>45211.000000</td>\n",
       "    </tr>\n",
       "    <tr>\n",
       "      <th>mean</th>\n",
       "      <td>40.936210</td>\n",
       "      <td>1362.272058</td>\n",
       "      <td>15.806419</td>\n",
       "      <td>258.163080</td>\n",
       "      <td>2.763841</td>\n",
       "      <td>40.197828</td>\n",
       "      <td>0.580323</td>\n",
       "    </tr>\n",
       "    <tr>\n",
       "      <th>std</th>\n",
       "      <td>10.618762</td>\n",
       "      <td>3044.765829</td>\n",
       "      <td>8.322476</td>\n",
       "      <td>257.527812</td>\n",
       "      <td>3.098021</td>\n",
       "      <td>100.128746</td>\n",
       "      <td>2.303441</td>\n",
       "    </tr>\n",
       "    <tr>\n",
       "      <th>min</th>\n",
       "      <td>18.000000</td>\n",
       "      <td>-8019.000000</td>\n",
       "      <td>1.000000</td>\n",
       "      <td>0.000000</td>\n",
       "      <td>1.000000</td>\n",
       "      <td>-1.000000</td>\n",
       "      <td>0.000000</td>\n",
       "    </tr>\n",
       "    <tr>\n",
       "      <th>25%</th>\n",
       "      <td>33.000000</td>\n",
       "      <td>72.000000</td>\n",
       "      <td>8.000000</td>\n",
       "      <td>103.000000</td>\n",
       "      <td>1.000000</td>\n",
       "      <td>-1.000000</td>\n",
       "      <td>0.000000</td>\n",
       "    </tr>\n",
       "    <tr>\n",
       "      <th>50%</th>\n",
       "      <td>39.000000</td>\n",
       "      <td>448.000000</td>\n",
       "      <td>16.000000</td>\n",
       "      <td>180.000000</td>\n",
       "      <td>2.000000</td>\n",
       "      <td>-1.000000</td>\n",
       "      <td>0.000000</td>\n",
       "    </tr>\n",
       "    <tr>\n",
       "      <th>75%</th>\n",
       "      <td>48.000000</td>\n",
       "      <td>1428.000000</td>\n",
       "      <td>21.000000</td>\n",
       "      <td>319.000000</td>\n",
       "      <td>3.000000</td>\n",
       "      <td>-1.000000</td>\n",
       "      <td>0.000000</td>\n",
       "    </tr>\n",
       "    <tr>\n",
       "      <th>max</th>\n",
       "      <td>95.000000</td>\n",
       "      <td>102127.000000</td>\n",
       "      <td>31.000000</td>\n",
       "      <td>4918.000000</td>\n",
       "      <td>63.000000</td>\n",
       "      <td>871.000000</td>\n",
       "      <td>275.000000</td>\n",
       "    </tr>\n",
       "  </tbody>\n",
       "</table>\n",
       "</div>"
      ],
      "text/plain": [
       "                age        balance           day      duration      campaign  \\\n",
       "count  45211.000000   45211.000000  45211.000000  45211.000000  45211.000000   \n",
       "mean      40.936210    1362.272058     15.806419    258.163080      2.763841   \n",
       "std       10.618762    3044.765829      8.322476    257.527812      3.098021   \n",
       "min       18.000000   -8019.000000      1.000000      0.000000      1.000000   \n",
       "25%       33.000000      72.000000      8.000000    103.000000      1.000000   \n",
       "50%       39.000000     448.000000     16.000000    180.000000      2.000000   \n",
       "75%       48.000000    1428.000000     21.000000    319.000000      3.000000   \n",
       "max       95.000000  102127.000000     31.000000   4918.000000     63.000000   \n",
       "\n",
       "              pdays      previous  \n",
       "count  45211.000000  45211.000000  \n",
       "mean      40.197828      0.580323  \n",
       "std      100.128746      2.303441  \n",
       "min       -1.000000      0.000000  \n",
       "25%       -1.000000      0.000000  \n",
       "50%       -1.000000      0.000000  \n",
       "75%       -1.000000      0.000000  \n",
       "max      871.000000    275.000000  "
      ]
     },
     "execution_count": 5,
     "metadata": {},
     "output_type": "execute_result"
    }
   ],
   "source": [
    "df.describe()"
   ]
  },
  {
   "cell_type": "code",
   "execution_count": 6,
   "id": "2fdc356b",
   "metadata": {},
   "outputs": [
    {
     "data": {
      "text/plain": [
       "age           int64\n",
       "job          object\n",
       "marital      object\n",
       "education    object\n",
       "default      object\n",
       "balance       int64\n",
       "housing      object\n",
       "loan         object\n",
       "contact      object\n",
       "day           int64\n",
       "month        object\n",
       "duration      int64\n",
       "campaign      int64\n",
       "pdays         int64\n",
       "previous      int64\n",
       "poutcome     object\n",
       "y            object\n",
       "dtype: object"
      ]
     },
     "execution_count": 6,
     "metadata": {},
     "output_type": "execute_result"
    }
   ],
   "source": [
    "df.dtypes"
   ]
  },
  {
   "cell_type": "code",
   "execution_count": 7,
   "id": "e4110034",
   "metadata": {},
   "outputs": [
    {
     "data": {
      "text/plain": [
       "0         no\n",
       "1         no\n",
       "2         no\n",
       "3         no\n",
       "4         no\n",
       "        ... \n",
       "45206    yes\n",
       "45207    yes\n",
       "45208    yes\n",
       "45209     no\n",
       "45210     no\n",
       "Name: y, Length: 45211, dtype: object"
      ]
     },
     "execution_count": 7,
     "metadata": {},
     "output_type": "execute_result"
    }
   ],
   "source": [
    "df.y"
   ]
  },
  {
   "cell_type": "code",
   "execution_count": 8,
   "id": "ae3abf3c",
   "metadata": {},
   "outputs": [
    {
     "data": {
      "text/plain": [
       "array(['tertiary', 'secondary', 'unknown', 'primary'], dtype=object)"
      ]
     },
     "execution_count": 8,
     "metadata": {},
     "output_type": "execute_result"
    }
   ],
   "source": [
    "df['education'].unique()"
   ]
  },
  {
   "cell_type": "code",
   "execution_count": 9,
   "id": "b3208f2e",
   "metadata": {},
   "outputs": [
    {
     "data": {
      "text/plain": [
       "0    secondary\n",
       "Name: education, dtype: object"
      ]
     },
     "execution_count": 9,
     "metadata": {},
     "output_type": "execute_result"
    }
   ],
   "source": [
    "modes=df['education'].mode()\n",
    "modes"
   ]
  },
  {
   "cell_type": "code",
   "execution_count": 10,
   "id": "81b6d5a5",
   "metadata": {},
   "outputs": [],
   "source": [
    "df.y=(df.y=='yes').astype(int)"
   ]
  },
  {
   "cell_type": "code",
   "execution_count": 11,
   "id": "a0efb5a5",
   "metadata": {},
   "outputs": [
    {
     "data": {
      "text/plain": [
       "0        0\n",
       "1        0\n",
       "2        0\n",
       "3        0\n",
       "4        0\n",
       "        ..\n",
       "45206    1\n",
       "45207    1\n",
       "45208    1\n",
       "45209    0\n",
       "45210    0\n",
       "Name: y, Length: 45211, dtype: int32"
      ]
     },
     "execution_count": 11,
     "metadata": {},
     "output_type": "execute_result"
    }
   ],
   "source": [
    "df.y"
   ]
  },
  {
   "cell_type": "code",
   "execution_count": 12,
   "id": "0b7c2861",
   "metadata": {},
   "outputs": [],
   "source": [
    "df_full_train,df_test=train_test_split(df,test_size=0.2,random_state=1)"
   ]
  },
  {
   "cell_type": "code",
   "execution_count": 13,
   "id": "0bd21d1a",
   "metadata": {},
   "outputs": [],
   "source": [
    "df_train,df_val=train_test_split(df_full_train,test_size=0.25,random_state=1)"
   ]
  },
  {
   "cell_type": "code",
   "execution_count": 14,
   "id": "0eb89bb9",
   "metadata": {},
   "outputs": [
    {
     "data": {
      "text/plain": [
       "(45211, 36168, 9043, 27126, 9042)"
      ]
     },
     "execution_count": 14,
     "metadata": {},
     "output_type": "execute_result"
    }
   ],
   "source": [
    "len(df),len(df_full_train),len(df_test),len(df_train),len(df_val)"
   ]
  },
  {
   "cell_type": "code",
   "execution_count": 15,
   "id": "af0ab270",
   "metadata": {},
   "outputs": [
    {
     "name": "stdout",
     "output_type": "stream",
     "text": [
      "45211\n"
     ]
    }
   ],
   "source": [
    "print(len(df_train)+len(df_test)+len(df_val))"
   ]
  },
  {
   "cell_type": "raw",
   "id": "4786118b",
   "metadata": {},
   "source": [
    "df_train=df_train.reset_index(drop=True)\n",
    "df_test=df_test.reset_index(drop=True)\n",
    "df_val=df_val.reset_index(drop=True)"
   ]
  },
  {
   "cell_type": "code",
   "execution_count": 16,
   "id": "d2066b08",
   "metadata": {},
   "outputs": [],
   "source": [
    "y_train=df_train.y.values\n",
    "y_test=df_test.y.values\n",
    "y_val=df_val.y.values"
   ]
  },
  {
   "cell_type": "code",
   "execution_count": 17,
   "id": "11281cc6",
   "metadata": {},
   "outputs": [],
   "source": [
    "del df_train['y']\n",
    "del df_test['y']\n",
    "del df_val['y']\n"
   ]
  },
  {
   "cell_type": "code",
   "execution_count": 18,
   "id": "9ad16425",
   "metadata": {},
   "outputs": [],
   "source": [
    "df_full_train=df_full_train.reset_index(drop=True)"
   ]
  },
  {
   "cell_type": "code",
   "execution_count": 19,
   "id": "0c5f16d1",
   "metadata": {},
   "outputs": [
    {
     "data": {
      "text/plain": [
       "age          0\n",
       "job          0\n",
       "marital      0\n",
       "education    0\n",
       "default      0\n",
       "balance      0\n",
       "housing      0\n",
       "loan         0\n",
       "contact      0\n",
       "day          0\n",
       "month        0\n",
       "duration     0\n",
       "campaign     0\n",
       "pdays        0\n",
       "previous     0\n",
       "poutcome     0\n",
       "y            0\n",
       "dtype: int64"
      ]
     },
     "execution_count": 19,
     "metadata": {},
     "output_type": "execute_result"
    }
   ],
   "source": [
    "df_full_train.isnull().sum()"
   ]
  },
  {
   "cell_type": "code",
   "execution_count": 20,
   "id": "2c25ba02",
   "metadata": {},
   "outputs": [
    {
     "data": {
      "text/plain": [
       "0        0\n",
       "1        0\n",
       "2        0\n",
       "3        0\n",
       "4        0\n",
       "        ..\n",
       "36163    0\n",
       "36164    0\n",
       "36165    0\n",
       "36166    0\n",
       "36167    0\n",
       "Name: y, Length: 36168, dtype: int32"
      ]
     },
     "execution_count": 20,
     "metadata": {},
     "output_type": "execute_result"
    }
   ],
   "source": [
    "df_full_train.y"
   ]
  },
  {
   "cell_type": "code",
   "execution_count": 21,
   "id": "f72694f6",
   "metadata": {},
   "outputs": [
    {
     "data": {
      "text/plain": [
       "0    0.882797\n",
       "1    0.117203\n",
       "Name: y, dtype: float64"
      ]
     },
     "execution_count": 21,
     "metadata": {},
     "output_type": "execute_result"
    }
   ],
   "source": [
    "df_full_train.y.value_counts(normalize=True)"
   ]
  },
  {
   "cell_type": "code",
   "execution_count": 22,
   "id": "f4448a46",
   "metadata": {},
   "outputs": [],
   "source": [
    "categorical=['job', 'marital', 'education', 'default','housing',\n",
    "       'loan', 'contact','month','poutcome']\n",
    "numerical=['age','balance','day','duration','campaign','pdays','previous']"
   ]
  },
  {
   "cell_type": "code",
   "execution_count": 23,
   "id": "c97e871b",
   "metadata": {},
   "outputs": [],
   "source": [
    "corel=df.corr()"
   ]
  },
  {
   "cell_type": "code",
   "execution_count": 24,
   "id": "0ca31b9b",
   "metadata": {},
   "outputs": [
    {
     "data": {
      "text/html": [
       "<div>\n",
       "<style scoped>\n",
       "    .dataframe tbody tr th:only-of-type {\n",
       "        vertical-align: middle;\n",
       "    }\n",
       "\n",
       "    .dataframe tbody tr th {\n",
       "        vertical-align: top;\n",
       "    }\n",
       "\n",
       "    .dataframe thead th {\n",
       "        text-align: right;\n",
       "    }\n",
       "</style>\n",
       "<table border=\"1\" class=\"dataframe\">\n",
       "  <thead>\n",
       "    <tr style=\"text-align: right;\">\n",
       "      <th></th>\n",
       "      <th>age</th>\n",
       "      <th>balance</th>\n",
       "      <th>day</th>\n",
       "      <th>duration</th>\n",
       "      <th>campaign</th>\n",
       "      <th>pdays</th>\n",
       "      <th>previous</th>\n",
       "      <th>y</th>\n",
       "    </tr>\n",
       "  </thead>\n",
       "  <tbody>\n",
       "    <tr>\n",
       "      <th>age</th>\n",
       "      <td>1.000000</td>\n",
       "      <td>0.097783</td>\n",
       "      <td>-0.009120</td>\n",
       "      <td>-0.004648</td>\n",
       "      <td>0.004760</td>\n",
       "      <td>-0.023758</td>\n",
       "      <td>0.001288</td>\n",
       "      <td>0.025155</td>\n",
       "    </tr>\n",
       "    <tr>\n",
       "      <th>balance</th>\n",
       "      <td>0.097783</td>\n",
       "      <td>1.000000</td>\n",
       "      <td>0.004503</td>\n",
       "      <td>0.021560</td>\n",
       "      <td>-0.014578</td>\n",
       "      <td>0.003435</td>\n",
       "      <td>0.016674</td>\n",
       "      <td>0.052838</td>\n",
       "    </tr>\n",
       "    <tr>\n",
       "      <th>day</th>\n",
       "      <td>-0.009120</td>\n",
       "      <td>0.004503</td>\n",
       "      <td>1.000000</td>\n",
       "      <td>-0.030206</td>\n",
       "      <td>0.162490</td>\n",
       "      <td>-0.093044</td>\n",
       "      <td>-0.051710</td>\n",
       "      <td>-0.028348</td>\n",
       "    </tr>\n",
       "    <tr>\n",
       "      <th>duration</th>\n",
       "      <td>-0.004648</td>\n",
       "      <td>0.021560</td>\n",
       "      <td>-0.030206</td>\n",
       "      <td>1.000000</td>\n",
       "      <td>-0.084570</td>\n",
       "      <td>-0.001565</td>\n",
       "      <td>0.001203</td>\n",
       "      <td>0.394521</td>\n",
       "    </tr>\n",
       "    <tr>\n",
       "      <th>campaign</th>\n",
       "      <td>0.004760</td>\n",
       "      <td>-0.014578</td>\n",
       "      <td>0.162490</td>\n",
       "      <td>-0.084570</td>\n",
       "      <td>1.000000</td>\n",
       "      <td>-0.088628</td>\n",
       "      <td>-0.032855</td>\n",
       "      <td>-0.073172</td>\n",
       "    </tr>\n",
       "    <tr>\n",
       "      <th>pdays</th>\n",
       "      <td>-0.023758</td>\n",
       "      <td>0.003435</td>\n",
       "      <td>-0.093044</td>\n",
       "      <td>-0.001565</td>\n",
       "      <td>-0.088628</td>\n",
       "      <td>1.000000</td>\n",
       "      <td>0.454820</td>\n",
       "      <td>0.103621</td>\n",
       "    </tr>\n",
       "    <tr>\n",
       "      <th>previous</th>\n",
       "      <td>0.001288</td>\n",
       "      <td>0.016674</td>\n",
       "      <td>-0.051710</td>\n",
       "      <td>0.001203</td>\n",
       "      <td>-0.032855</td>\n",
       "      <td>0.454820</td>\n",
       "      <td>1.000000</td>\n",
       "      <td>0.093236</td>\n",
       "    </tr>\n",
       "    <tr>\n",
       "      <th>y</th>\n",
       "      <td>0.025155</td>\n",
       "      <td>0.052838</td>\n",
       "      <td>-0.028348</td>\n",
       "      <td>0.394521</td>\n",
       "      <td>-0.073172</td>\n",
       "      <td>0.103621</td>\n",
       "      <td>0.093236</td>\n",
       "      <td>1.000000</td>\n",
       "    </tr>\n",
       "  </tbody>\n",
       "</table>\n",
       "</div>"
      ],
      "text/plain": [
       "               age   balance       day  duration  campaign     pdays  \\\n",
       "age       1.000000  0.097783 -0.009120 -0.004648  0.004760 -0.023758   \n",
       "balance   0.097783  1.000000  0.004503  0.021560 -0.014578  0.003435   \n",
       "day      -0.009120  0.004503  1.000000 -0.030206  0.162490 -0.093044   \n",
       "duration -0.004648  0.021560 -0.030206  1.000000 -0.084570 -0.001565   \n",
       "campaign  0.004760 -0.014578  0.162490 -0.084570  1.000000 -0.088628   \n",
       "pdays    -0.023758  0.003435 -0.093044 -0.001565 -0.088628  1.000000   \n",
       "previous  0.001288  0.016674 -0.051710  0.001203 -0.032855  0.454820   \n",
       "y         0.025155  0.052838 -0.028348  0.394521 -0.073172  0.103621   \n",
       "\n",
       "          previous         y  \n",
       "age       0.001288  0.025155  \n",
       "balance   0.016674  0.052838  \n",
       "day      -0.051710 -0.028348  \n",
       "duration  0.001203  0.394521  \n",
       "campaign -0.032855 -0.073172  \n",
       "pdays     0.454820  0.103621  \n",
       "previous  1.000000  0.093236  \n",
       "y         0.093236  1.000000  "
      ]
     },
     "execution_count": 24,
     "metadata": {},
     "output_type": "execute_result"
    }
   ],
   "source": [
    "corel"
   ]
  },
  {
   "cell_type": "code",
   "execution_count": 25,
   "id": "36ccfe14",
   "metadata": {},
   "outputs": [
    {
     "data": {
      "text/plain": [
       "age         0.024931\n",
       "balance     0.055252\n",
       "day        -0.030624\n",
       "duration    0.398321\n",
       "campaign   -0.072134\n",
       "pdays       0.101045\n",
       "previous    0.087392\n",
       "dtype: float64"
      ]
     },
     "execution_count": 25,
     "metadata": {},
     "output_type": "execute_result"
    }
   ],
   "source": [
    "df_full_train[numerical].corrwith(df_full_train.y)"
   ]
  },
  {
   "cell_type": "code",
   "execution_count": 26,
   "id": "656152a7",
   "metadata": {},
   "outputs": [
    {
     "data": {
      "text/plain": [
       "age           int64\n",
       "job          object\n",
       "marital      object\n",
       "education    object\n",
       "default      object\n",
       "balance       int64\n",
       "housing      object\n",
       "loan         object\n",
       "contact      object\n",
       "day           int64\n",
       "month        object\n",
       "duration      int64\n",
       "campaign      int64\n",
       "pdays         int64\n",
       "previous      int64\n",
       "poutcome     object\n",
       "y             int32\n",
       "dtype: object"
      ]
     },
     "execution_count": 26,
     "metadata": {},
     "output_type": "execute_result"
    }
   ],
   "source": [
    "df.dtypes"
   ]
  },
  {
   "cell_type": "code",
   "execution_count": 27,
   "id": "24e706f8",
   "metadata": {},
   "outputs": [
    {
     "data": {
      "text/plain": [
       "Index(['age', 'job', 'marital', 'education', 'default', 'balance', 'housing',\n",
       "       'loan', 'contact', 'day', 'month', 'duration', 'campaign', 'pdays',\n",
       "       'previous', 'poutcome', 'y'],\n",
       "      dtype='object')"
      ]
     },
     "execution_count": 27,
     "metadata": {},
     "output_type": "execute_result"
    }
   ],
   "source": [
    "df.columns"
   ]
  },
  {
   "cell_type": "code",
   "execution_count": 28,
   "id": "8196365a",
   "metadata": {},
   "outputs": [
    {
     "data": {
      "text/plain": [
       "array([0, 0, 0, ..., 0, 0, 0])"
      ]
     },
     "execution_count": 28,
     "metadata": {},
     "output_type": "execute_result"
    }
   ],
   "source": [
    "y_train"
   ]
  },
  {
   "cell_type": "code",
   "execution_count": null,
   "id": "7aa6bcbe",
   "metadata": {},
   "outputs": [],
   "source": []
  },
  {
   "cell_type": "code",
   "execution_count": 29,
   "id": "77b12c84",
   "metadata": {},
   "outputs": [
    {
     "data": {
      "text/plain": [
       "0.01"
      ]
     },
     "execution_count": 29,
     "metadata": {},
     "output_type": "execute_result"
    }
   ],
   "source": [
    "round(mutual_info_score(y_train,df_train.contact),2)"
   ]
  },
  {
   "cell_type": "code",
   "execution_count": 30,
   "id": "1e131ccb",
   "metadata": {},
   "outputs": [
    {
     "data": {
      "text/plain": [
       "0.0"
      ]
     },
     "execution_count": 30,
     "metadata": {},
     "output_type": "execute_result"
    }
   ],
   "source": [
    "round(mutual_info_score(y_train,df_train.education),2)"
   ]
  },
  {
   "cell_type": "code",
   "execution_count": 31,
   "id": "7c4d5967",
   "metadata": {},
   "outputs": [
    {
     "data": {
      "text/plain": [
       "0.01"
      ]
     },
     "execution_count": 31,
     "metadata": {},
     "output_type": "execute_result"
    }
   ],
   "source": [
    "round(mutual_info_score(y_train,df_train.housing),2)"
   ]
  },
  {
   "cell_type": "code",
   "execution_count": 32,
   "id": "7cc73b17",
   "metadata": {},
   "outputs": [
    {
     "data": {
      "text/plain": [
       "0.03"
      ]
     },
     "execution_count": 32,
     "metadata": {},
     "output_type": "execute_result"
    }
   ],
   "source": [
    "round(mutual_info_score(y_train,df_train.poutcome),2)"
   ]
  },
  {
   "cell_type": "code",
   "execution_count": 33,
   "id": "55833a62",
   "metadata": {},
   "outputs": [],
   "source": [
    "def mutual_info(series):\n",
    "    return mutual_info_score(series,y_train)"
   ]
  },
  {
   "cell_type": "code",
   "execution_count": 34,
   "id": "843f19e2",
   "metadata": {},
   "outputs": [
    {
     "data": {
      "text/plain": [
       "poutcome     0.03\n",
       "month        0.02\n",
       "job          0.01\n",
       "housing      0.01\n",
       "contact      0.01\n",
       "marital      0.00\n",
       "education    0.00\n",
       "default      0.00\n",
       "loan         0.00\n",
       "dtype: float64"
      ]
     },
     "execution_count": 34,
     "metadata": {},
     "output_type": "execute_result"
    }
   ],
   "source": [
    "round(df_train[categorical].apply(mutual_info),2).sort_values(ascending=False)"
   ]
  },
  {
   "cell_type": "code",
   "execution_count": 35,
   "id": "be025bbd",
   "metadata": {},
   "outputs": [],
   "source": [
    "dicts=df_train[categorical + numerical].to_dict(orient='records')"
   ]
  },
  {
   "cell_type": "code",
   "execution_count": 36,
   "id": "f53618f3",
   "metadata": {},
   "outputs": [
    {
     "data": {
      "text/plain": [
       "{'job': 'entrepreneur',\n",
       " 'marital': 'married',\n",
       " 'education': 'tertiary',\n",
       " 'default': 'no',\n",
       " 'housing': 'no',\n",
       " 'loan': 'yes',\n",
       " 'contact': 'cellular',\n",
       " 'month': 'jul',\n",
       " 'poutcome': 'unknown',\n",
       " 'age': 56,\n",
       " 'balance': 40,\n",
       " 'day': 11,\n",
       " 'duration': 123,\n",
       " 'campaign': 2,\n",
       " 'pdays': -1,\n",
       " 'previous': 0}"
      ]
     },
     "execution_count": 36,
     "metadata": {},
     "output_type": "execute_result"
    }
   ],
   "source": [
    "dicts[0]"
   ]
  },
  {
   "cell_type": "code",
   "execution_count": 37,
   "id": "2d6d22ca",
   "metadata": {},
   "outputs": [],
   "source": [
    "dv=DictVectorizer(sparse=False)"
   ]
  },
  {
   "cell_type": "code",
   "execution_count": 38,
   "id": "47549d61",
   "metadata": {},
   "outputs": [
    {
     "data": {
      "text/plain": [
       "DictVectorizer(sparse=False)"
      ]
     },
     "execution_count": 38,
     "metadata": {},
     "output_type": "execute_result"
    }
   ],
   "source": [
    "dv.fit(dicts)"
   ]
  },
  {
   "cell_type": "code",
   "execution_count": 39,
   "id": "3980dab1",
   "metadata": {},
   "outputs": [
    {
     "name": "stderr",
     "output_type": "stream",
     "text": [
      "C:\\ProgramData\\Anaconda3\\lib\\site-packages\\sklearn\\utils\\deprecation.py:87: FutureWarning: Function get_feature_names is deprecated; get_feature_names is deprecated in 1.0 and will be removed in 1.2. Please use get_feature_names_out instead.\n",
      "  warnings.warn(msg, category=FutureWarning)\n"
     ]
    },
    {
     "data": {
      "text/plain": [
       "['age',\n",
       " 'balance',\n",
       " 'campaign',\n",
       " 'contact=cellular',\n",
       " 'contact=telephone',\n",
       " 'contact=unknown',\n",
       " 'day',\n",
       " 'default=no',\n",
       " 'default=yes',\n",
       " 'duration',\n",
       " 'education=primary',\n",
       " 'education=secondary',\n",
       " 'education=tertiary',\n",
       " 'education=unknown',\n",
       " 'housing=no',\n",
       " 'housing=yes',\n",
       " 'job=admin.',\n",
       " 'job=blue-collar',\n",
       " 'job=entrepreneur',\n",
       " 'job=housemaid',\n",
       " 'job=management',\n",
       " 'job=retired',\n",
       " 'job=self-employed',\n",
       " 'job=services',\n",
       " 'job=student',\n",
       " 'job=technician',\n",
       " 'job=unemployed',\n",
       " 'job=unknown',\n",
       " 'loan=no',\n",
       " 'loan=yes',\n",
       " 'marital=divorced',\n",
       " 'marital=married',\n",
       " 'marital=single',\n",
       " 'month=apr',\n",
       " 'month=aug',\n",
       " 'month=dec',\n",
       " 'month=feb',\n",
       " 'month=jan',\n",
       " 'month=jul',\n",
       " 'month=jun',\n",
       " 'month=mar',\n",
       " 'month=may',\n",
       " 'month=nov',\n",
       " 'month=oct',\n",
       " 'month=sep',\n",
       " 'pdays',\n",
       " 'poutcome=failure',\n",
       " 'poutcome=other',\n",
       " 'poutcome=success',\n",
       " 'poutcome=unknown',\n",
       " 'previous']"
      ]
     },
     "execution_count": 39,
     "metadata": {},
     "output_type": "execute_result"
    }
   ],
   "source": [
    "dv.get_feature_names()"
   ]
  },
  {
   "cell_type": "code",
   "execution_count": 40,
   "id": "65a2ce63",
   "metadata": {},
   "outputs": [
    {
     "data": {
      "text/plain": [
       "[56.0,\n",
       " 40.0,\n",
       " 2.0,\n",
       " 1.0,\n",
       " 0.0,\n",
       " 0.0,\n",
       " 11.0,\n",
       " 1.0,\n",
       " 0.0,\n",
       " 123.0,\n",
       " 0.0,\n",
       " 0.0,\n",
       " 1.0,\n",
       " 0.0,\n",
       " 1.0,\n",
       " 0.0,\n",
       " 0.0,\n",
       " 0.0,\n",
       " 1.0,\n",
       " 0.0,\n",
       " 0.0,\n",
       " 0.0,\n",
       " 0.0,\n",
       " 0.0,\n",
       " 0.0,\n",
       " 0.0,\n",
       " 0.0,\n",
       " 0.0,\n",
       " 0.0,\n",
       " 1.0,\n",
       " 0.0,\n",
       " 1.0,\n",
       " 0.0,\n",
       " 0.0,\n",
       " 0.0,\n",
       " 0.0,\n",
       " 0.0,\n",
       " 0.0,\n",
       " 1.0,\n",
       " 0.0,\n",
       " 0.0,\n",
       " 0.0,\n",
       " 0.0,\n",
       " 0.0,\n",
       " 0.0,\n",
       " -1.0,\n",
       " 0.0,\n",
       " 0.0,\n",
       " 0.0,\n",
       " 1.0,\n",
       " 0.0]"
      ]
     },
     "execution_count": 40,
     "metadata": {},
     "output_type": "execute_result"
    }
   ],
   "source": [
    "list(dv.transform(dicts[:5])[0])"
   ]
  },
  {
   "cell_type": "code",
   "execution_count": 41,
   "id": "2a5e93c9",
   "metadata": {},
   "outputs": [],
   "source": [
    "X_train=dv.fit_transform(dicts)"
   ]
  },
  {
   "cell_type": "code",
   "execution_count": 42,
   "id": "84a6c36d",
   "metadata": {},
   "outputs": [],
   "source": [
    "val_dicts=df_val[categorical+ numerical].to_dict(orient='records')"
   ]
  },
  {
   "cell_type": "code",
   "execution_count": 43,
   "id": "a6a2da24",
   "metadata": {},
   "outputs": [],
   "source": [
    "X_Val=dv.transform(val_dicts)"
   ]
  },
  {
   "cell_type": "code",
   "execution_count": 44,
   "id": "707c8c9a",
   "metadata": {},
   "outputs": [],
   "source": [
    "model = LogisticRegression(solver='liblinear', C=1.0, max_iter=1000, random_state=42)"
   ]
  },
  {
   "cell_type": "code",
   "execution_count": 45,
   "id": "33a97762",
   "metadata": {},
   "outputs": [
    {
     "data": {
      "text/plain": [
       "LogisticRegression(max_iter=1000, random_state=42, solver='liblinear')"
      ]
     },
     "execution_count": 45,
     "metadata": {},
     "output_type": "execute_result"
    }
   ],
   "source": [
    "model.fit(X_train,y_train)"
   ]
  },
  {
   "cell_type": "code",
   "execution_count": 46,
   "id": "96e7e07e",
   "metadata": {},
   "outputs": [
    {
     "data": {
      "text/plain": [
       "-0.6793730833462145"
      ]
     },
     "execution_count": 46,
     "metadata": {},
     "output_type": "execute_result"
    }
   ],
   "source": [
    "model.intercept_[0]"
   ]
  },
  {
   "cell_type": "code",
   "execution_count": 47,
   "id": "c82c1259",
   "metadata": {},
   "outputs": [
    {
     "data": {
      "text/plain": [
       "array([-6.000e-03,  0.000e+00, -8.400e-02,  3.260e-01,  1.890e-01,\n",
       "       -1.195e+00,  3.000e-03, -3.430e-01, -3.360e-01,  4.000e-03,\n",
       "       -3.590e-01, -1.690e-01, -9.000e-03, -1.420e-01, -2.300e-02,\n",
       "       -6.570e-01,  1.200e-02, -2.730e-01, -2.170e-01, -2.770e-01,\n",
       "       -7.500e-02,  4.790e-01, -1.760e-01, -1.880e-01,  4.690e-01,\n",
       "       -1.980e-01, -1.510e-01, -8.300e-02, -1.540e-01, -5.250e-01,\n",
       "       -2.120e-01, -3.830e-01, -8.500e-02, -4.100e-02, -7.050e-01,\n",
       "        2.000e-01, -3.840e-01, -9.290e-01, -7.890e-01,  4.400e-01,\n",
       "        1.295e+00, -4.670e-01, -9.650e-01,  1.018e+00,  6.470e-01,\n",
       "       -0.000e+00, -6.690e-01, -6.480e-01,  1.546e+00, -9.080e-01,\n",
       "       -1.000e-03])"
      ]
     },
     "execution_count": 47,
     "metadata": {},
     "output_type": "execute_result"
    }
   ],
   "source": [
    "model.coef_[0].round(3)"
   ]
  },
  {
   "cell_type": "code",
   "execution_count": 48,
   "id": "f954220b",
   "metadata": {},
   "outputs": [],
   "source": [
    "y_pred=model.predict_proba(X_Val)[:,1]"
   ]
  },
  {
   "cell_type": "code",
   "execution_count": 49,
   "id": "f1c5d91d",
   "metadata": {},
   "outputs": [
    {
     "data": {
      "text/plain": [
       "array([0.02908934, 0.0223903 , 0.02487471, ..., 0.22224983, 0.00156561,\n",
       "       0.03842559])"
      ]
     },
     "execution_count": 49,
     "metadata": {},
     "output_type": "execute_result"
    }
   ],
   "source": [
    "y_pred"
   ]
  },
  {
   "cell_type": "code",
   "execution_count": 50,
   "id": "68273ee1",
   "metadata": {},
   "outputs": [
    {
     "data": {
      "text/plain": [
       "array([False, False, False, ..., False, False, False])"
      ]
     },
     "execution_count": 50,
     "metadata": {},
     "output_type": "execute_result"
    }
   ],
   "source": [
    "decision=y_pred >= 0.5\n",
    "decision"
   ]
  },
  {
   "cell_type": "code",
   "execution_count": 51,
   "id": "671ac980",
   "metadata": {},
   "outputs": [
    {
     "data": {
      "text/plain": [
       "0.9"
      ]
     },
     "execution_count": 51,
     "metadata": {},
     "output_type": "execute_result"
    }
   ],
   "source": [
    "round((y_val == decision).mean(),2)"
   ]
  },
  {
   "cell_type": "code",
   "execution_count": 52,
   "id": "2d8c9f4f",
   "metadata": {},
   "outputs": [
    {
     "data": {
      "text/plain": [
       "array([0, 0, 0, ..., 0, 0, 0])"
      ]
     },
     "execution_count": 52,
     "metadata": {},
     "output_type": "execute_result"
    }
   ],
   "source": [
    "decision.astype(int)"
   ]
  },
  {
   "cell_type": "code",
   "execution_count": 53,
   "id": "6fabedbe",
   "metadata": {},
   "outputs": [
    {
     "name": "stderr",
     "output_type": "stream",
     "text": [
      "C:\\ProgramData\\Anaconda3\\lib\\site-packages\\sklearn\\utils\\deprecation.py:87: FutureWarning: Function get_feature_names is deprecated; get_feature_names is deprecated in 1.0 and will be removed in 1.2. Please use get_feature_names_out instead.\n",
      "  warnings.warn(msg, category=FutureWarning)\n"
     ]
    },
    {
     "data": {
      "text/plain": [
       "{'age': -0.006,\n",
       " 'balance': 0.0,\n",
       " 'campaign': -0.084,\n",
       " 'contact=cellular': 0.326,\n",
       " 'contact=telephone': 0.189,\n",
       " 'contact=unknown': -1.195,\n",
       " 'day': 0.003,\n",
       " 'default=no': -0.343,\n",
       " 'default=yes': -0.336,\n",
       " 'duration': 0.004,\n",
       " 'education=primary': -0.359,\n",
       " 'education=secondary': -0.169,\n",
       " 'education=tertiary': -0.009,\n",
       " 'education=unknown': -0.142,\n",
       " 'housing=no': -0.023,\n",
       " 'housing=yes': -0.657,\n",
       " 'job=admin.': 0.012,\n",
       " 'job=blue-collar': -0.273,\n",
       " 'job=entrepreneur': -0.217,\n",
       " 'job=housemaid': -0.277,\n",
       " 'job=management': -0.075,\n",
       " 'job=retired': 0.479,\n",
       " 'job=self-employed': -0.176,\n",
       " 'job=services': -0.188,\n",
       " 'job=student': 0.469,\n",
       " 'job=technician': -0.198,\n",
       " 'job=unemployed': -0.151,\n",
       " 'job=unknown': -0.083,\n",
       " 'loan=no': -0.154,\n",
       " 'loan=yes': -0.525,\n",
       " 'marital=divorced': -0.212,\n",
       " 'marital=married': -0.383,\n",
       " 'marital=single': -0.085,\n",
       " 'month=apr': -0.041,\n",
       " 'month=aug': -0.705,\n",
       " 'month=dec': 0.2,\n",
       " 'month=feb': -0.384,\n",
       " 'month=jan': -0.929,\n",
       " 'month=jul': -0.789,\n",
       " 'month=jun': 0.44,\n",
       " 'month=mar': 1.295,\n",
       " 'month=may': -0.467,\n",
       " 'month=nov': -0.965,\n",
       " 'month=oct': 1.018,\n",
       " 'month=sep': 0.647,\n",
       " 'pdays': -0.0,\n",
       " 'poutcome=failure': -0.669,\n",
       " 'poutcome=other': -0.648,\n",
       " 'poutcome=success': 1.546,\n",
       " 'poutcome=unknown': -0.908,\n",
       " 'previous': -0.001}"
      ]
     },
     "execution_count": 53,
     "metadata": {},
     "output_type": "execute_result"
    }
   ],
   "source": [
    "dict(zip(dv.get_feature_names(),model.coef_[0].round(3)))"
   ]
  },
  {
   "cell_type": "code",
   "execution_count": 54,
   "id": "1ad2d954",
   "metadata": {},
   "outputs": [
    {
     "data": {
      "text/plain": [
       "({'age': 0.00022119000221187957,\n",
       "  'balance': -0.00022119000221187957,\n",
       "  'marital': 0.0,\n",
       "  'previous': -0.0013271400132713884},\n",
       " 'previous')"
      ]
     },
     "execution_count": 54,
     "metadata": {},
     "output_type": "execute_result"
    }
   ],
   "source": [
    "from sklearn.metrics import accuracy_score\n",
    "from sklearn.feature_extraction import DictVectorizer\n",
    "from sklearn.linear_model import LogisticRegression\n",
    "\n",
    "# Subset the training data with selected features\n",
    "subset = ['age','balance','marital','previous']\n",
    "train_dict_small = df_train[subset].to_dict(orient='records')\n",
    "val_dict_small = df_val[subset].to_dict(orient='records')\n",
    "\n",
    "# Initialize the DictVectorizer\n",
    "dv_small = DictVectorizer(sparse=False)\n",
    "dv_small.fit(train_dict_small)\n",
    "\n",
    "# Transform training and validation data\n",
    "X_small_train = dv_small.transform(train_dict_small)\n",
    "X_small_val = dv_small.transform(val_dict_small)\n",
    "\n",
    "# Initialize and train the logistic regression model\n",
    "model_small = LogisticRegression(solver='liblinear', C=1.0, max_iter=1000, random_state=42)\n",
    "model_small.fit(X_small_train, y_train)\n",
    "\n",
    "# Get baseline accuracy\n",
    "y_pred_base = model_small.predict(X_small_val)\n",
    "accuracy_base = accuracy_score(y_val, y_pred_base)\n",
    "\n",
    "# Initialize a dictionary to store the accuracy differences\n",
    "accuracy_diff = {}\n",
    "\n",
    "# Feature elimination process\n",
    "for feature in subset:\n",
    "    # Exclude the current feature\n",
    "    subset_temp = [f for f in subset if f != feature]\n",
    "    \n",
    "    # Transform training and validation sets excluding the current feature\n",
    "    train_dict_temp = df_train[subset_temp].to_dict(orient='records')\n",
    "    val_dict_temp = df_val[subset_temp].to_dict(orient='records')\n",
    "    \n",
    "    # Re-train the vectorizer and model with the reduced feature set\n",
    "    dv_temp = DictVectorizer(sparse=False)\n",
    "    dv_temp.fit(train_dict_temp)\n",
    "    \n",
    "    X_temp_train = dv_temp.transform(train_dict_temp)\n",
    "    X_temp_val = dv_temp.transform(val_dict_temp)\n",
    "    \n",
    "    # Train the model without the current feature\n",
    "    model_temp = LogisticRegression(solver='liblinear', C=1.0, max_iter=1000, random_state=42)\n",
    "    model_temp.fit(X_temp_train, y_train)\n",
    "    \n",
    "    # Get the accuracy without the current feature\n",
    "    y_pred_temp = model_temp.predict(X_temp_val)\n",
    "    accuracy_temp = accuracy_score(y_val, y_pred_temp)\n",
    "    \n",
    "    # Store the difference in accuracy\n",
    "    accuracy_diff[feature] = accuracy_base - accuracy_temp\n",
    "\n",
    "# Output the accuracy differences and find the least useful feature\n",
    "least_useful_feature = min(accuracy_diff, key=accuracy_diff.get)\n",
    "accuracy_diff, least_useful_feature\n"
   ]
  },
  {
   "cell_type": "code",
   "execution_count": 55,
   "id": "642b56fa",
   "metadata": {},
   "outputs": [
    {
     "data": {
      "text/plain": [
       "{0.01: 0.895, 0.1: 0.898, 1: 0.898, 10: 0.898, 100: 0.898}"
      ]
     },
     "execution_count": 55,
     "metadata": {},
     "output_type": "execute_result"
    }
   ],
   "source": [
    "# Define the C values to try\n",
    "C_values = [0.01, 0.1, 1, 10, 100]\n",
    "# Dictionary to store accuracies for each C\n",
    "accuracy_results = {}\n",
    "\n",
    "# Loop through each value of C\n",
    "for C in C_values:\n",
    "    # Initialize and train the logistic regression model with regularization\n",
    "    model_regularized = LogisticRegression(solver='liblinear', C=C, max_iter=1000, random_state=42)\n",
    "    \n",
    "    # Train the model using all features\n",
    "    model_regularized.fit(X_train, y_train)\n",
    "    \n",
    "    # Make predictions on the validation dataset\n",
    "    y_pred = model_regularized.predict(X_Val)\n",
    "    \n",
    "    # Calculate the accuracy and round it to 3 decimal digits\n",
    "    accuracy = accuracy_score(y_val, y_pred)\n",
    "    accuracy_results[C] = round(accuracy, 3)\n",
    "\n",
    "# Output the accuracy results\n",
    "accuracy_results\n"
   ]
  },
  {
   "cell_type": "code",
   "execution_count": null,
   "id": "c28700ad",
   "metadata": {},
   "outputs": [],
   "source": []
  }
 ],
 "metadata": {
  "kernelspec": {
   "display_name": "Python 3 (ipykernel)",
   "language": "python",
   "name": "python3"
  },
  "language_info": {
   "codemirror_mode": {
    "name": "ipython",
    "version": 3
   },
   "file_extension": ".py",
   "mimetype": "text/x-python",
   "name": "python",
   "nbconvert_exporter": "python",
   "pygments_lexer": "ipython3",
   "version": "3.9.13"
  }
 },
 "nbformat": 4,
 "nbformat_minor": 5
}
